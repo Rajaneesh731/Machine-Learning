{
 "cells": [
  {
   "cell_type": "markdown",
   "id": "e4cbacf4",
   "metadata": {},
   "source": [
    "Step 1- Import required libraries\n"
   ]
  },
  {
   "cell_type": "code",
   "execution_count": 4,
   "id": "b0e55897",
   "metadata": {},
   "outputs": [],
   "source": [
    "import pandas as pd\n",
    "import numpy as np\n",
    "import matplotlib.pyplot as plt\n",
    "import seaborn as sns\n",
    "from sklearn.linear_model import LogisticRegression\n",
    "from sklearn.model_selection import train_test_split\n",
    "from sklearn.metrics import confusion_matrix, accuracy_score\n",
    "%matplotlib inline\n",
    "\n",
    "#to remove the warnings\n",
    "import warnings \n",
    "warnings.filterwarnings('ignore')"
   ]
  },
  {
   "cell_type": "markdown",
   "id": "cf9ce053",
   "metadata": {},
   "source": [
    "Step 2- Load, visualize and explore the dataset"
   ]
  },
  {
   "cell_type": "code",
   "execution_count": 16,
   "id": "75a2fcdd",
   "metadata": {
    "scrolled": true
   },
   "outputs": [
    {
     "name": "stdout",
     "output_type": "stream",
     "text": [
      "<class 'pandas.core.frame.DataFrame'>\n",
      "RangeIndex: 4238 entries, 0 to 4237\n",
      "Data columns (total 16 columns):\n",
      " #   Column           Non-Null Count  Dtype  \n",
      "---  ------           --------------  -----  \n",
      " 0   male             4238 non-null   int64  \n",
      " 1   age              4238 non-null   int64  \n",
      " 2   education        4133 non-null   float64\n",
      " 3   currentSmoker    4238 non-null   int64  \n",
      " 4   cigsPerDay       4209 non-null   float64\n",
      " 5   BPMeds           4185 non-null   float64\n",
      " 6   prevalentStroke  4238 non-null   int64  \n",
      " 7   prevalentHyp     4238 non-null   int64  \n",
      " 8   diabetes         4238 non-null   int64  \n",
      " 9   totChol          4188 non-null   float64\n",
      " 10  sysBP            4238 non-null   float64\n",
      " 11  diaBP            4238 non-null   float64\n",
      " 12  BMI              4219 non-null   float64\n",
      " 13  heartRate        4237 non-null   float64\n",
      " 14  glucose          3850 non-null   float64\n",
      " 15  TenYearCHD       4238 non-null   int64  \n",
      "dtypes: float64(9), int64(7)\n",
      "memory usage: 529.9 KB\n"
     ]
    }
   ],
   "source": [
    "df = pd.read_csv(\"framingham.csv\")\n",
    "df.head()\n",
    "df.info()"
   ]
  },
  {
   "cell_type": "code",
   "execution_count": 17,
   "id": "e5149782",
   "metadata": {},
   "outputs": [
    {
     "data": {
      "text/html": [
       "<div>\n",
       "<style scoped>\n",
       "    .dataframe tbody tr th:only-of-type {\n",
       "        vertical-align: middle;\n",
       "    }\n",
       "\n",
       "    .dataframe tbody tr th {\n",
       "        vertical-align: top;\n",
       "    }\n",
       "\n",
       "    .dataframe thead th {\n",
       "        text-align: right;\n",
       "    }\n",
       "</style>\n",
       "<table border=\"1\" class=\"dataframe\">\n",
       "  <thead>\n",
       "    <tr style=\"text-align: right;\">\n",
       "      <th></th>\n",
       "      <th>male</th>\n",
       "      <th>age</th>\n",
       "      <th>education</th>\n",
       "      <th>currentSmoker</th>\n",
       "      <th>cigsPerDay</th>\n",
       "      <th>BPMeds</th>\n",
       "      <th>prevalentStroke</th>\n",
       "      <th>prevalentHyp</th>\n",
       "      <th>diabetes</th>\n",
       "      <th>totChol</th>\n",
       "      <th>sysBP</th>\n",
       "      <th>diaBP</th>\n",
       "      <th>BMI</th>\n",
       "      <th>heartRate</th>\n",
       "      <th>glucose</th>\n",
       "      <th>TenYearCHD</th>\n",
       "    </tr>\n",
       "  </thead>\n",
       "  <tbody>\n",
       "    <tr>\n",
       "      <th>0</th>\n",
       "      <td>1</td>\n",
       "      <td>39</td>\n",
       "      <td>4.0</td>\n",
       "      <td>0</td>\n",
       "      <td>0.0</td>\n",
       "      <td>0.0</td>\n",
       "      <td>0</td>\n",
       "      <td>0</td>\n",
       "      <td>0</td>\n",
       "      <td>195.0</td>\n",
       "      <td>106.0</td>\n",
       "      <td>70.0</td>\n",
       "      <td>26.97</td>\n",
       "      <td>80.0</td>\n",
       "      <td>77.0</td>\n",
       "      <td>0</td>\n",
       "    </tr>\n",
       "    <tr>\n",
       "      <th>1</th>\n",
       "      <td>0</td>\n",
       "      <td>46</td>\n",
       "      <td>2.0</td>\n",
       "      <td>0</td>\n",
       "      <td>0.0</td>\n",
       "      <td>0.0</td>\n",
       "      <td>0</td>\n",
       "      <td>0</td>\n",
       "      <td>0</td>\n",
       "      <td>250.0</td>\n",
       "      <td>121.0</td>\n",
       "      <td>81.0</td>\n",
       "      <td>28.73</td>\n",
       "      <td>95.0</td>\n",
       "      <td>76.0</td>\n",
       "      <td>0</td>\n",
       "    </tr>\n",
       "    <tr>\n",
       "      <th>2</th>\n",
       "      <td>1</td>\n",
       "      <td>48</td>\n",
       "      <td>1.0</td>\n",
       "      <td>1</td>\n",
       "      <td>20.0</td>\n",
       "      <td>0.0</td>\n",
       "      <td>0</td>\n",
       "      <td>0</td>\n",
       "      <td>0</td>\n",
       "      <td>245.0</td>\n",
       "      <td>127.5</td>\n",
       "      <td>80.0</td>\n",
       "      <td>25.34</td>\n",
       "      <td>75.0</td>\n",
       "      <td>70.0</td>\n",
       "      <td>0</td>\n",
       "    </tr>\n",
       "    <tr>\n",
       "      <th>3</th>\n",
       "      <td>0</td>\n",
       "      <td>61</td>\n",
       "      <td>3.0</td>\n",
       "      <td>1</td>\n",
       "      <td>30.0</td>\n",
       "      <td>0.0</td>\n",
       "      <td>0</td>\n",
       "      <td>1</td>\n",
       "      <td>0</td>\n",
       "      <td>225.0</td>\n",
       "      <td>150.0</td>\n",
       "      <td>95.0</td>\n",
       "      <td>28.58</td>\n",
       "      <td>65.0</td>\n",
       "      <td>103.0</td>\n",
       "      <td>1</td>\n",
       "    </tr>\n",
       "    <tr>\n",
       "      <th>4</th>\n",
       "      <td>0</td>\n",
       "      <td>46</td>\n",
       "      <td>3.0</td>\n",
       "      <td>1</td>\n",
       "      <td>23.0</td>\n",
       "      <td>0.0</td>\n",
       "      <td>0</td>\n",
       "      <td>0</td>\n",
       "      <td>0</td>\n",
       "      <td>285.0</td>\n",
       "      <td>130.0</td>\n",
       "      <td>84.0</td>\n",
       "      <td>23.10</td>\n",
       "      <td>85.0</td>\n",
       "      <td>85.0</td>\n",
       "      <td>0</td>\n",
       "    </tr>\n",
       "  </tbody>\n",
       "</table>\n",
       "</div>"
      ],
      "text/plain": [
       "   male  age  education  currentSmoker  cigsPerDay  BPMeds  prevalentStroke  \\\n",
       "0     1   39        4.0              0         0.0     0.0                0   \n",
       "1     0   46        2.0              0         0.0     0.0                0   \n",
       "2     1   48        1.0              1        20.0     0.0                0   \n",
       "3     0   61        3.0              1        30.0     0.0                0   \n",
       "4     0   46        3.0              1        23.0     0.0                0   \n",
       "\n",
       "   prevalentHyp  diabetes  totChol  sysBP  diaBP    BMI  heartRate  glucose  \\\n",
       "0             0         0    195.0  106.0   70.0  26.97       80.0     77.0   \n",
       "1             0         0    250.0  121.0   81.0  28.73       95.0     76.0   \n",
       "2             0         0    245.0  127.5   80.0  25.34       75.0     70.0   \n",
       "3             1         0    225.0  150.0   95.0  28.58       65.0    103.0   \n",
       "4             0         0    285.0  130.0   84.0  23.10       85.0     85.0   \n",
       "\n",
       "   TenYearCHD  \n",
       "0           0  \n",
       "1           0  \n",
       "2           0  \n",
       "3           1  \n",
       "4           0  "
      ]
     },
     "execution_count": 17,
     "metadata": {},
     "output_type": "execute_result"
    }
   ],
   "source": [
    "df.head()"
   ]
  },
  {
   "cell_type": "code",
   "execution_count": 18,
   "id": "a8b90a2f",
   "metadata": {},
   "outputs": [
    {
     "name": "stdout",
     "output_type": "stream",
     "text": [
      "Number of null values in the data set are -  1\n"
     ]
    },
    {
     "data": {
      "text/plain": [
       "0"
      ]
     },
     "execution_count": 18,
     "metadata": {},
     "output_type": "execute_result"
    }
   ],
   "source": [
    "#Check for null entries\n",
    "print(\"Number of null values in the data set are - \",df.isnull().values.any().sum())\n",
    "df.dropna(inplace=True)\n",
    "df.isnull().values.any().sum()"
   ]
  },
  {
   "cell_type": "markdown",
   "id": "23e17eb6",
   "metadata": {},
   "source": [
    "Step 3- Deal with the outliers"
   ]
  },
  {
   "cell_type": "code",
   "execution_count": 19,
   "id": "0cb6ca9b",
   "metadata": {},
   "outputs": [
    {
     "name": "stdout",
     "output_type": "stream",
     "text": [
      "Lower and upper limit calculated are - 6.0 -2.0\n"
     ]
    }
   ],
   "source": [
    "#Function to find the upper and lower limits to identify and remover outliers\n",
    "def interQuartile(x):\n",
    "    percentile25= x.quantile(0.25)\n",
    "    percentile75=x.quantile(0.75)\n",
    "    iqr=percentile75-percentile25\n",
    "    upperLimit= percentile75+1.5*iqr\n",
    "    lowerLimit= percentile25-1.5*iqr\n",
    "    return upperLimit, lowerLimit\n",
    "\"\"\"\n",
    "To find the upper and lower limit any column and \n",
    "check if any values are beyond these limits\n",
    "\"\"\"\n",
    "upper,lower= interQuartile(df['education'])\n",
    "print(\"Lower and upper limit calculated are -\", upper, lower)"
   ]
  },
  {
   "cell_type": "code",
   "execution_count": 20,
   "id": "25379352",
   "metadata": {},
   "outputs": [
    {
     "name": "stdout",
     "output_type": "stream",
     "text": [
      "Number of entries below the lower limit are  0\n",
      "Number of entries above the upper limit are  0\n"
     ]
    }
   ],
   "source": [
    "print(\"Number of entries below the lower limit are \", (df['education'] < lower).sum())\n",
    "print(\"Number of entries above the upper limit are \", (df['education'] > upper).sum())"
   ]
  },
  {
   "cell_type": "markdown",
   "id": "e7ead18e",
   "metadata": {},
   "source": [
    "Step 4: Define dependent and independent variables and then split the data into a training set and testing set."
   ]
  },
  {
   "cell_type": "code",
   "execution_count": 21,
   "id": "3b19c2a8",
   "metadata": {},
   "outputs": [],
   "source": [
    "#Define the independent and dependent variables\n",
    "y= df['TenYearCHD'] #dependent variable is Decision\n",
    "x= df.drop(['TenYearCHD'], axis=1)\n",
    "# splitting the data\n",
    "x_train, x_test, y_train, y_test = train_test_split(x,y, test_size= 0.2)"
   ]
  },
  {
   "cell_type": "markdown",
   "id": "e84b3040",
   "metadata": {},
   "source": [
    "Step 5- Fit a logistic regression model using sklearn"
   ]
  },
  {
   "cell_type": "code",
   "execution_count": 22,
   "id": "5a40cf1a",
   "metadata": {},
   "outputs": [
    {
     "data": {
      "text/plain": [
       "LogisticRegression()"
      ]
     },
     "execution_count": 22,
     "metadata": {},
     "output_type": "execute_result"
    }
   ],
   "source": [
    "#Implementing Logistic Regression using sklearn\n",
    "modelLogistic = LogisticRegression()\n",
    "modelLogistic.fit(x_train,y_train)"
   ]
  },
  {
   "cell_type": "code",
   "execution_count": 23,
   "id": "8dc655f0",
   "metadata": {},
   "outputs": [
    {
     "name": "stdout",
     "output_type": "stream",
     "text": [
      "The intercept b0=  [-0.21446237]\n",
      "The coefficient b1=  [[ 0.22324494  0.03882206 -0.36236627 -0.12753798  0.02165258  0.08302468\n",
      "   0.04033628  0.49324112  0.05017262 -0.00165614  0.02204022 -0.02350282\n",
      "  -0.07266465 -0.03130718  0.00393215]]\n"
     ]
    }
   ],
   "source": [
    "#print the regression coefficients\n",
    "\n",
    "print(\"The intercept b0= \", modelLogistic.intercept_)\n",
    "\n",
    "print(\"The coefficient b1= \", modelLogistic.coef_)"
   ]
  },
  {
   "cell_type": "markdown",
   "id": "b53f94d9",
   "metadata": {},
   "source": [
    "Step 6- Apply the model on the test data and make a prediction"
   ]
  },
  {
   "cell_type": "code",
   "execution_count": 24,
   "id": "620f054d",
   "metadata": {},
   "outputs": [],
   "source": [
    "#Make prediction for the test data\n",
    "y_pred= modelLogistic.predict(x_test)"
   ]
  },
  {
   "cell_type": "markdown",
   "id": "c1c7c456",
   "metadata": {},
   "source": [
    "Step 8- Evaluate the model using a confusion matrix to obtain an accuracy rate."
   ]
  },
  {
   "cell_type": "code",
   "execution_count": 25,
   "id": "0b2a72d3",
   "metadata": {},
   "outputs": [
    {
     "name": "stdout",
     "output_type": "stream",
     "text": [
      "[[607   5]\n",
      " [112   8]]\n"
     ]
    }
   ],
   "source": [
    "#Creating confusion matrix\n",
    "ConfusionMatrix = confusion_matrix(y_test, y_pred)\n",
    "print(ConfusionMatrix)"
   ]
  },
  {
   "cell_type": "code",
   "execution_count": 27,
   "id": "bfae840b",
   "metadata": {},
   "outputs": [
    {
     "name": "stdout",
     "output_type": "stream",
     "text": [
      "Accuracy from confusion matrix is  0.8401639344262295\n"
     ]
    }
   ],
   "source": [
    "#Accuracy from confusion matrix\n",
    "TP= ConfusionMatrix[1,1] #True positive\n",
    "TN= ConfusionMatrix[0,0] #True negative\n",
    "Total=len(y_test)\n",
    "print(\"Accuracy from confusion matrix is \", (TN+TP)/Total)"
   ]
  },
  {
   "cell_type": "markdown",
   "id": "ed0a8518",
   "metadata": {},
   "source": [
    "Step 9: Obtain the regression coefficients using the statsmodel package"
   ]
  },
  {
   "cell_type": "code",
   "execution_count": 28,
   "id": "3abdab99",
   "metadata": {
    "scrolled": true
   },
   "outputs": [
    {
     "name": "stdout",
     "output_type": "stream",
     "text": [
      "Optimization terminated successfully.\n",
      "         Current function value: 0.368568\n",
      "         Iterations 7\n",
      "                           Logit Regression Results                           \n",
      "==============================================================================\n",
      "Dep. Variable:             TenYearCHD   No. Observations:                 2924\n",
      "Model:                          Logit   Df Residuals:                     2908\n",
      "Method:                           MLE   Df Model:                           15\n",
      "Date:                Wed, 15 Jun 2022   Pseudo R-squ.:                  0.1261\n",
      "Time:                        11:13:23   Log-Likelihood:                -1077.7\n",
      "converged:                       True   LL-Null:                       -1233.2\n",
      "Covariance Type:            nonrobust   LLR p-value:                 2.798e-57\n",
      "===================================================================================\n",
      "                      coef    std err          z      P>|z|      [0.025      0.975]\n",
      "-----------------------------------------------------------------------------------\n",
      "const              -8.8789      0.815    -10.893      0.000     -10.476      -7.281\n",
      "male                0.5548      0.123      4.508      0.000       0.314       0.796\n",
      "age                 0.0692      0.008      9.118      0.000       0.054       0.084\n",
      "education          -0.0530      0.057     -0.936      0.349      -0.164       0.058\n",
      "currentSmoker       0.0144      0.177      0.081      0.935      -0.332       0.361\n",
      "cigsPerDay          0.0168      0.007      2.375      0.018       0.003       0.031\n",
      "BPMeds              0.1861      0.264      0.704      0.481      -0.332       0.704\n",
      "prevalentStroke     0.9423      0.510      1.848      0.065      -0.057       1.941\n",
      "prevalentHyp        0.1937      0.155      1.248      0.212      -0.110       0.498\n",
      "diabetes           -0.3673      0.388     -0.947      0.344      -1.128       0.393\n",
      "totChol             0.0024      0.001      1.842      0.065      -0.000       0.005\n",
      "sysBP               0.0157      0.004      3.668      0.000       0.007       0.024\n",
      "diaBP              -0.0018      0.007     -0.244      0.808      -0.016       0.012\n",
      "BMI                 0.0146      0.014      1.005      0.315      -0.014       0.043\n",
      "heartRate          -0.0063      0.005     -1.318      0.187      -0.016       0.003\n",
      "glucose             0.0080      0.003      2.988      0.003       0.003       0.013\n",
      "===================================================================================\n"
     ]
    }
   ],
   "source": [
    "#Using statsmodels package to obtian the model\n",
    "import statsmodels.api as sm\n",
    "x_train = sm.add_constant(x_train)\n",
    "logit_model=sm.Logit(y_train,x_train)\n",
    "result=logit_model.fit()\n",
    "print(result.summary())"
   ]
  }
 ],
 "metadata": {
  "kernelspec": {
   "display_name": "Python 3",
   "language": "python",
   "name": "python3"
  },
  "language_info": {
   "codemirror_mode": {
    "name": "ipython",
    "version": 3
   },
   "file_extension": ".py",
   "mimetype": "text/x-python",
   "name": "python",
   "nbconvert_exporter": "python",
   "pygments_lexer": "ipython3",
   "version": "3.8.8"
  }
 },
 "nbformat": 4,
 "nbformat_minor": 5
}
